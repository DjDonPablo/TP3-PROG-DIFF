{
 "cells": [
  {
   "cell_type": "markdown",
   "metadata": {},
   "source": [
    "# TP3: Optimisation : Implémentation et Evaluation\n",
    "- Maël Reynaud\n",
    "- Alexandre Devaux-Rivière"
   ]
  },
  {
   "cell_type": "markdown",
   "metadata": {},
   "source": [
    "### Import de la classe Tensor depuis le dernier TP (TP2)"
   ]
  },
  {
   "cell_type": "code",
   "execution_count": 1,
   "metadata": {},
   "outputs": [],
   "source": [
    "class Tensor:\n",
    "    def __init__(self, data, _children=(), _op=''):\n",
    "        self.data = data\n",
    "        self.grad = 0.0\n",
    "\n",
    "        # internal variables used for autograd graph construction\n",
    "        self._backward = lambda: None\n",
    "        self._prev = set(_children)\n",
    "        self._op = _op # the op that produced this node, for graphviz / debugging / etc\n",
    "\n",
    "    def __add__(self, other):\n",
    "        other = other if isinstance(other, Tensor) else Tensor(other)\n",
    "        out = Tensor(self.data + other.data, (self, other), '+')\n",
    "\n",
    "        def _backward():\n",
    "            self.grad += out.grad\n",
    "            other.grad += out.grad\n",
    "\n",
    "        out._backward = _backward\n",
    "\n",
    "        return out\n",
    "\n",
    "    def __mul__(self, other):\n",
    "        other = other if isinstance(other, Tensor) else Tensor(other)\n",
    "        out = Tensor(self.data * other.data, [self, other], '*')\n",
    "\n",
    "        def _backward():\n",
    "            self.grad += other.data * out.grad\n",
    "            other.grad += self.data * out.grad\n",
    "\n",
    "        out._backward = _backward\n",
    "\n",
    "        return out\n",
    "\n",
    "    def __pow__(self, other):\n",
    "        assert isinstance(other, (int, float)), \"only supporting int/float powers for now\"\n",
    "\n",
    "        out = Tensor(self.data**other, (self,), f'**{other}')\n",
    "\n",
    "        def _backward():\n",
    "            self.grad += (other * self.data**(other-1)) * out.grad\n",
    "\n",
    "        out._backward = _backward\n",
    "\n",
    "        return out\n",
    "\n",
    "\n",
    "    def build_topo(self, visited=None, topo=None):\n",
    "        if self not in visited:\n",
    "            visited.add(self)\n",
    "            for child in self._prev:\n",
    "                child.build_topo(visited=visited, topo=topo)\n",
    "            topo.append(self)\n",
    "        return topo\n",
    "\n",
    "    def backward(self):\n",
    "        # topological order all of the children in the graph\n",
    "        topo = []\n",
    "        visited = set()\n",
    "        topo = self.build_topo(topo=topo, visited=visited)\n",
    "\n",
    "        # go one variable at a time and apply the chain rule to get its gradient\n",
    "        self.grad = 1.0\n",
    "        for v in reversed(topo):\n",
    "            v._backward()\n",
    "\n",
    "    def __neg__(self): # -self\n",
    "        return self * -1\n",
    "\n",
    "    def __radd__(self, other): # other + self\n",
    "        return self + other\n",
    "\n",
    "    def __sub__(self, other): # self - other\n",
    "        return self + (-other)\n",
    "\n",
    "    def __rsub__(self, other): # other - self\n",
    "        return other + (-self)\n",
    "\n",
    "    def __rmul__(self, other): # other * self\n",
    "        return self * other\n",
    "\n",
    "    def __repr__(self):\n",
    "        return f\"Tensor(data={self.data}, grad={self.grad})\""
   ]
  },
  {
   "cell_type": "markdown",
   "metadata": {},
   "source": [
    "### Travail pour le TP3"
   ]
  },
  {
   "cell_type": "code",
   "execution_count": 2,
   "metadata": {},
   "outputs": [],
   "source": [
    "import numpy as np\n",
    "import matplotlib.pyplot as plt\n",
    "import torch\n",
    "\n",
    "from typing import List, Dict\n",
    "from abc import ABC, abstractmethod\n",
    "from sklearn.model_selection import train_test_split\n",
    "\n",
    "np.random.seed(0)"
   ]
  },
  {
   "cell_type": "markdown",
   "metadata": {},
   "source": [
    "## Préparation des jeux de données synthétiques pour l'évaluation\n",
    "\n",
    "### Données linaires\n",
    "\n",
    "Le jeu de données linéaire est généré à partir d’une relation linéaire entre les variables x et y avec l’ajout d’un bruit gaussien."
   ]
  },
  {
   "cell_type": "code",
   "execution_count": 3,
   "metadata": {},
   "outputs": [],
   "source": [
    "n_samples = 100\n",
    "x_linear = np.linspace(-10, 10, n_samples)\n",
    "y_linear = 3 * x_linear + 5 + np.random.normal(0, 2, n_samples)"
   ]
  },
  {
   "cell_type": "markdown",
   "metadata": {},
   "source": [
    "### Données non linéaires\n",
    "\n",
    "Le jeu de données non linéaire est basé sur une relation quadratique entre x et y avec un bruit ajouté."
   ]
  },
  {
   "cell_type": "code",
   "execution_count": 4,
   "metadata": {},
   "outputs": [],
   "source": [
    "y_nonlinear = 0.5 * x_linear **2 - 4 * x_linear + np.random.normal(0, 5, n_samples)"
   ]
  },
  {
   "cell_type": "markdown",
   "metadata": {},
   "source": [
    "## Implémentation des algorithmes\n",
    "\n",
    "Préparation de la classe abstraite `Optimiseur` pour l'implémentation de nos optimizer customisés. On y retrouve une méthode `step()` à override, et une méthode `zero_grad()` utilisée pour remettre les gradients à 0 après chaque itération d'optimisation."
   ]
  },
  {
   "cell_type": "code",
   "execution_count": 5,
   "metadata": {},
   "outputs": [],
   "source": [
    "class Optimizer(ABC):\n",
    "    def __init__(self, params: List[Tensor], lr: float):\n",
    "        self.params = params\n",
    "        self.lr = lr\n",
    "\n",
    "    @abstractmethod\n",
    "    def step(self):\n",
    "        pass\n",
    "\n",
    "    def zero_grad(self):\n",
    "        for param in self.params:\n",
    "            param.grad = 0"
   ]
  },
  {
   "cell_type": "markdown",
   "metadata": {},
   "source": [
    "### Préparation de l'évaluation de nos différentes implémentations\n",
    "\n",
    "Le `LinearModel` représente un Layer Perceptron classique. "
   ]
  },
  {
   "cell_type": "code",
   "execution_count": 6,
   "metadata": {},
   "outputs": [],
   "source": [
    "class LinearModel(torch.nn.Module):\n",
    "    def __init__(self):\n",
    "        super().__init__()\n",
    "        self.W = torch.nn.parameter.Parameter(torch.tensor(1.0))\n",
    "        self.b = torch.nn.parameter.Parameter(torch.tensor(0.0))\n",
    "\n",
    "    def forward(self, x):\n",
    "        return self.W * x + self.b"
   ]
  },
  {
   "cell_type": "markdown",
   "metadata": {},
   "source": [
    "Nous construisons ensuite la fonction `test_optimizer()` pour évaluer l'optimizer donné en paramètre. "
   ]
  },
  {
   "cell_type": "code",
   "execution_count": 7,
   "metadata": {},
   "outputs": [],
   "source": [
    "def test_optimizer(optim: Optimizer, torch_optim: torch.optim.Optimizer, optim_parameters: Dict):\n",
    "    W = Tensor(1.0)\n",
    "    b = Tensor(0.0)\n",
    "    torch_model = LinearModel()\n",
    "\n",
    "    optimizer = optim([W, b], **optim_parameters)\n",
    "    torch_optimizer = torch_optim(torch_model.parameters(), **optim_parameters)\n",
    "\n",
    "    print(\"Linear dataset (3 * x + 5)\")\n",
    "    for _ in range(100):\n",
    "        for x, y in zip(x_linear, y_linear):\n",
    "            loss = (y - (W * x + b)) ** 2\n",
    "            torch_loss = (y - torch_model(x)) ** 2\n",
    "\n",
    "            optimizer.zero_grad()\n",
    "            torch_optimizer.zero_grad()\n",
    "\n",
    "            loss.backward()\n",
    "            torch_loss.backward()\n",
    "\n",
    "            optimizer.step()\n",
    "            torch_optimizer.step()\n",
    "\n",
    "    print(f\"W : {W.data}, b : {b.data}\")\n",
    "    print(f\"[PYTORCH] W : {torch_model.W.data}, b : {torch_model.b.data}\")\n",
    "\n",
    "\n",
    "    W = Tensor(1.0)\n",
    "    b = Tensor(0.0)\n",
    "    torch_model = LinearModel()\n",
    "\n",
    "    optimizer = optim([W, b], **optim_parameters)\n",
    "    torch_optimizer = torch_optim(torch_model.parameters(), **optim_parameters)\n",
    "\n",
    "    print(\"Non linear dataset (0.5 * x^2 - 4 * x)\")\n",
    "    for _ in range(100):\n",
    "        for x, y in zip(x_linear, y_nonlinear):\n",
    "            loss = (y - (W * x + b)) ** 2\n",
    "            torch_loss = (y - torch_model(x)) ** 2\n",
    "\n",
    "            optimizer.zero_grad()\n",
    "            torch_optimizer.zero_grad()\n",
    "\n",
    "            loss.backward()\n",
    "            torch_loss.backward()\n",
    "\n",
    "            optimizer.step()\n",
    "            torch_optimizer.step()\n",
    "\n",
    "    print(f\"W : {W.data}, b : {b.data}\")\n",
    "    print(f\"[PYTORCH] W : {torch_model.W.data}, b : {torch_model.b.data}\")"
   ]
  },
  {
   "cell_type": "markdown",
   "metadata": {},
   "source": [
    "### Stochastic Gradient Descent (SGD)\n",
    "\n",
    "TODO EXPLAIN"
   ]
  },
  {
   "cell_type": "code",
   "execution_count": 8,
   "metadata": {},
   "outputs": [],
   "source": [
    "class SGD(Optimizer):\n",
    "    def __init__(self, params: List[Tensor], lr: float = 0.01):\n",
    "        super().__init__(params=params, lr=lr)\n",
    "\n",
    "    def step(self):\n",
    "        for param in self.params:\n",
    "            param.data -= self.lr * param.grad"
   ]
  },
  {
   "cell_type": "code",
   "execution_count": 9,
   "metadata": {},
   "outputs": [
    {
     "name": "stdout",
     "output_type": "stream",
     "text": [
      "Linear dataset (3 * x + 5)\n",
      "W : 3.1124139870722645, b : 4.931713920861934\n",
      "[PYTORCH] W : 3.1124141216278076, b : 4.931710720062256\n",
      "Non linear dataset (0.5 * x^2 - 4 * x)\n",
      "W : -0.7479125849883421, b : 13.664536448952166\n",
      "[PYTORCH] W : -0.7479138374328613, b : 13.664549827575684\n"
     ]
    }
   ],
   "source": [
    "test_optimizer(SGD, torch.optim.SGD, {\"lr\": 0.001})"
   ]
  },
  {
   "cell_type": "markdown",
   "metadata": {},
   "source": [
    "TODO EXPLAIN"
   ]
  },
  {
   "cell_type": "markdown",
   "metadata": {},
   "source": [
    "### Root Mean Square Propagation (RMSProp)\n",
    "\n",
    "TODO EXPLAIN"
   ]
  },
  {
   "cell_type": "code",
   "execution_count": 10,
   "metadata": {},
   "outputs": [],
   "source": [
    "class RMSProp(Optimizer):\n",
    "    def __init__(self, params: List[Tensor], lr: float = 0.001, weight_decay: float = 0.9, alpha: float = 0.99, eps: int = 1e-8):\n",
    "        super().__init__(params=params, lr=lr)\n",
    "        self.weight_decay = weight_decay\n",
    "        self.v = [0] * len(params)\n",
    "        self.alpha = alpha\n",
    "        self.eps = eps\n",
    "\n",
    "    def step(self):\n",
    "        for i, param in enumerate(self.params):\n",
    "            gt = param.grad + self.weight_decay * param.data\n",
    "            self.v[i] = self.alpha * self.v[i] + (1 - self.alpha) * (param.grad ** 2)\n",
    "            param.data -= self.lr * gt / (np.sqrt(self.v[i]) + self.eps)"
   ]
  },
  {
   "cell_type": "code",
   "execution_count": 11,
   "metadata": {},
   "outputs": [
    {
     "name": "stdout",
     "output_type": "stream",
     "text": [
      "Linear dataset (3 * x + 5)\n",
      "W : 2.9699739947949975, b : 3.4696535126733967\n",
      "[PYTORCH] W : 2.970080852508545, b : 3.521855354309082\n",
      "Non linear dataset (0.5 * x^2 - 4 * x)\n",
      "W : -2.681837225663783, b : 4.731417453278267\n",
      "[PYTORCH] W : -2.684575080871582, b : 4.821386814117432\n"
     ]
    }
   ],
   "source": [
    "test_optimizer(RMSProp, torch.optim.RMSprop, {\"lr\": 0.001, \"weight_decay\": 0.9, \"alpha\": 0.99, \"eps\": 1e-8})"
   ]
  },
  {
   "cell_type": "markdown",
   "metadata": {},
   "source": [
    "TODO EXPLAIN"
   ]
  },
  {
   "cell_type": "markdown",
   "metadata": {},
   "source": [
    "### Adagrad\n",
    "\n",
    "TODO EXPLAIN"
   ]
  },
  {
   "cell_type": "code",
   "execution_count": 12,
   "metadata": {},
   "outputs": [],
   "source": [
    "class Adagrad(Optimizer):\n",
    "    def __init__(self , params: List[Tensor], lr: float = 0.01):\n",
    "        super().__init__(params=params, lr=lr)\n",
    "        self.G = [np.zeros_like(param.data) for param in params]\n",
    "        self.epsilon = 1e-8\n",
    "\n",
    "    def step(self):\n",
    "        for index, param in enumerate(self.params):\n",
    "            self.G[index] += param.grad ** 2\n",
    "            coef = np.sqrt(self.G[index]) + self.epsilon\n",
    "            param.data -= (self.lr / coef) * param.grad"
   ]
  },
  {
   "cell_type": "code",
   "execution_count": 13,
   "metadata": {},
   "outputs": [
    {
     "name": "stdout",
     "output_type": "stream",
     "text": [
      "Linear dataset (3 * x + 5)\n",
      "W : 1.1379994326592422, b : 0.07407535004631868\n",
      "[PYTORCH] W : 1.1380008459091187, b : 0.07407517731189728\n",
      "Non linear dataset (0.5 * x^2 - 4 * x)\n",
      "W : 0.8920318490186844, b : 0.08891015717408494\n",
      "[PYTORCH] W : 0.8920310735702515, b : 0.08890986442565918\n"
     ]
    }
   ],
   "source": [
    "test_optimizer(Adagrad, torch.optim.Adagrad, {\"lr\": 0.001})"
   ]
  },
  {
   "cell_type": "markdown",
   "metadata": {},
   "source": [
    "TODO EXPLAIN"
   ]
  },
  {
   "cell_type": "markdown",
   "metadata": {},
   "source": [
    "### Adam\n",
    "\n",
    "TODO EXPLAIN"
   ]
  },
  {
   "cell_type": "code",
   "execution_count": 14,
   "metadata": {},
   "outputs": [],
   "source": [
    "# SAME AS PYTORCH IMPLEM\n",
    "\n",
    "class Adam(Optimizer):\n",
    "    def __init__(self, params: list, lr: float = 0.001, betas: float = (0.9, 0.999), eps: float = 1e-8):\n",
    "        super().__init__(params=params, lr=lr)\n",
    "        self.timestep = 1\n",
    "        self.epsilon = eps\n",
    "        self.beta1 = betas[0]\n",
    "        self.beta2 = betas[1]\n",
    "        self.m = [np.zeros_like(param.data) for param in params]\n",
    "        self.v = [np.zeros_like(param.data) for param in params]\n",
    "\n",
    "    def step(self):\n",
    "        for index, param in enumerate(self.params):\n",
    "            self.m[index] = self.beta1 * self.m[index] + (1 - self.beta1) * param.grad\n",
    "            self.v[index] = self.beta2 * self.v[index] + (1 - self.beta2) * (param.grad ** 2)\n",
    "            mhat = self.m[index] / (1 - self.beta1 ** self.timestep)\n",
    "            vhat = self.v[index] / (1 - self.beta2 ** self.timestep)\n",
    "            coef = np.sqrt(vhat) + self.epsilon\n",
    "            param.data -= self.lr * mhat / coef\n",
    "        self.timestep += 1"
   ]
  },
  {
   "cell_type": "code",
   "execution_count": 15,
   "metadata": {},
   "outputs": [
    {
     "name": "stdout",
     "output_type": "stream",
     "text": [
      "Linear dataset (3 * x + 5)\n",
      "W : 2.974818069941666, b : 4.70047297094164\n",
      "[PYTORCH] W : 2.974820613861084, b : 4.700463771820068\n",
      "Non linear dataset (0.5 * x^2 - 4 * x)\n",
      "W : -2.8413365377254745, b : 4.957100575280201\n",
      "[PYTORCH] W : -2.841322422027588, b : 4.957064628601074\n"
     ]
    }
   ],
   "source": [
    "test_optimizer(Adam, torch.optim.Adam, {\"lr\": 0.001, \"betas\": (0.9, 0.999), \"eps\": 1e-08})"
   ]
  },
  {
   "cell_type": "markdown",
   "metadata": {},
   "source": [
    "TODO EXPLAIN"
   ]
  },
  {
   "cell_type": "markdown",
   "metadata": {},
   "source": [
    "### AdamW\n",
    "\n",
    "TODO EXPLAIN"
   ]
  },
  {
   "cell_type": "code",
   "execution_count": 16,
   "metadata": {},
   "outputs": [],
   "source": [
    "class AdamW(Optimizer):\n",
    "    def __init__(self, params: list, lr: float = 0.001, betas: float = (0.9, 0.999), eps: float = 1e-8, weight_decay: float = 0.01):\n",
    "        super().__init__(params=params, lr=lr)\n",
    "        self.timestep = 1\n",
    "        self.epsilon = eps\n",
    "        self.beta1 = betas[0]\n",
    "        self.beta2 = betas[1]\n",
    "        self.weight_decay = weight_decay\n",
    "        self.m = [np.zeros_like(param.data) for param in params]\n",
    "        self.v = [np.zeros_like(param.data) for param in params]\n",
    "\n",
    "    def step(self):\n",
    "        for index, param in enumerate(self.params):\n",
    "            self.m[index] = self.beta1 * self.m[index] + (1 - self.beta1) * param.grad\n",
    "            self.v[index] = self.beta2 * self.v[index] + (1 - self.beta2) * (param.grad ** 2)\n",
    "            mhat = self.m[index] / (1 - self.beta1 ** self.timestep)\n",
    "            vhat = self.v[index] / (1 - self.beta2 ** self.timestep)\n",
    "            coef = np.sqrt(vhat) + self.epsilon\n",
    "            param.data -= self.lr * mhat / coef + self.lr * self.weight_decay * param.grad\n",
    "        self.timestep += 1"
   ]
  },
  {
   "cell_type": "code",
   "execution_count": 17,
   "metadata": {},
   "outputs": [
    {
     "name": "stdout",
     "output_type": "stream",
     "text": [
      "Linear dataset (3 * x + 5)\n",
      "W : 2.976817487893737, b : 4.914364433375242\n",
      "[PYTORCH] W : 2.9617233276367188, b : 4.5850982666015625\n",
      "Non linear dataset (0.5 * x^2 - 4 * x)\n",
      "W : -4.073345857854147, b : 8.158518147137402\n",
      "[PYTORCH] W : -2.7545793056488037, b : 4.7381744384765625\n"
     ]
    }
   ],
   "source": [
    "test_optimizer(AdamW, torch.optim.AdamW, {\"lr\": 0.001, \"betas\": (0.9, 0.999), \"eps\": 1e-08, \"weight_decay\": 0.01})"
   ]
  },
  {
   "cell_type": "markdown",
   "metadata": {},
   "source": [
    "TODO EXPLAIN"
   ]
  },
  {
   "cell_type": "markdown",
   "metadata": {},
   "source": [
    "## Evaluation des Optimiseur\n",
    "\n",
    "### Fonctions de Perte\n",
    "\n",
    "TODO EXPLAIN"
   ]
  },
  {
   "cell_type": "code",
   "execution_count": 18,
   "metadata": {},
   "outputs": [],
   "source": [
    "def f(x):\n",
    "    return (x - 2)**2\n",
    "\n",
    "def f_nonconvexe(x):\n",
    "    return 3*x**2 - 2*x"
   ]
  },
  {
   "cell_type": "markdown",
   "metadata": {},
   "source": [
    "TODO EXPLAIN"
   ]
  },
  {
   "cell_type": "markdown",
   "metadata": {},
   "source": [
    "### Expérimentation\n",
    "\n",
    "TODO EXPLAIN"
   ]
  },
  {
   "cell_type": "code",
   "execution_count": 34,
   "metadata": {},
   "outputs": [],
   "source": [
    "def eval_optim():\n",
    "    n_iterations = 500\n",
    "    learning_rate = 0.01\n",
    "\n",
    "    # store final results\n",
    "    results = {\n",
    "        'convex': {'SGD': [], 'RMSProp': [], 'Adagrad': [], 'Adam': [], 'AdamW': []},\n",
    "        'nonconvex': {'SGD': [], 'RMSProp': [], 'Adagrad': [], 'Adam': [], 'AdamW': []}\n",
    "    }\n",
    "\n",
    "    optimizers = {\n",
    "        'SGD': (SGD, {'lr': learning_rate}),\n",
    "        'RMSProp': (RMSProp, {'lr': learning_rate, 'weight_decay': 0.9, 'alpha': 0.99, 'eps': 1e-8}),\n",
    "        'Adagrad': (Adagrad, {'lr': learning_rate}),\n",
    "        'Adam': (Adam, {'lr': learning_rate, 'betas': (0.9, 0.999), 'eps': 1e-8}),\n",
    "        'AdamW': (AdamW, {'lr': learning_rate, 'betas': (0.9, 0.999), 'eps': 1e-8, 'weight_decay': 0.01})\n",
    "    }\n",
    "\n",
    "    # convex\n",
    "    print(\"===== Optimizers evaluation on convex function f(x) = (x - 2)**2 =====\")\n",
    "    for name, (opt_class, params) in optimizers.items():\n",
    "        x = Tensor(5.0)\n",
    "        optimizer = opt_class([x], **params)\n",
    "\n",
    "        print(f\"\\nOptimizer: {name}\")\n",
    "        for i in range(n_iterations):\n",
    "            loss = f(x)\n",
    "\n",
    "            optimizer.zero_grad()\n",
    "            loss.backward()\n",
    "            optimizer.step()\n",
    "\n",
    "            results['convex'][name].append(x.data)\n",
    "            if (i + 1) % 20 == 0:\n",
    "                print(\"├──\", end='') if (i + 1) != n_iterations else print(\"└──\", end='')\n",
    "                print(f\"Iteration {i + 1}: x = {x.data:.4f}, loss = {loss.data:.4f}\")\n",
    "\n",
    "    # nonconvex\n",
    "    print(\"\\n===== Evaluating optimizers on non-convex function f(x) = 3x**2 - 2x =====\")\n",
    "    for name, (opt_class, params) in optimizers.items():\n",
    "        x = Tensor(0.0)\n",
    "        optimizer = opt_class([x], **params)\n",
    "\n",
    "        print(f\"\\nOptimizer: {name}\")\n",
    "        for i in range(n_iterations):\n",
    "            loss = f_nonconvexe(x)\n",
    "\n",
    "            optimizer.zero_grad()\n",
    "            loss.backward()\n",
    "            optimizer.step()\n",
    "\n",
    "            results['nonconvex'][name].append(x.data)\n",
    "            if (i + 1) % 20 == 0:\n",
    "                print(\"├──\", end='') if (i + 1) != n_iterations else print(\"└──\", end='')\n",
    "                print(f\"Iteration {i + 1}: x = {x.data:.4f}, loss = {loss.data:.4f}\")\n",
    "\n",
    "    return results"
   ]
  },
  {
   "cell_type": "code",
   "execution_count": 35,
   "metadata": {},
   "outputs": [],
   "source": [
    "def plot_optimization_results(results):\n",
    "    _, (ax1, ax2) = plt.subplots(1, 2, figsize=(15, 5))\n",
    "\n",
    "    # plot convex results\n",
    "    for optimizer, values in results['convex'].items():\n",
    "        ax1.plot(values, label=optimizer)\n",
    "    ax1.set_title('Convex function optimization')\n",
    "    ax1.set_xlabel('Iteration')\n",
    "    ax1.set_ylabel('x value')\n",
    "    #ax1.axhline(y=2, color='r', linestyle='--', label='Optimal x=2')\n",
    "    ax1.legend()\n",
    "    ax1.grid(True)\n",
    "\n",
    "    # plot nonconvex results\n",
    "    for optimizer, values in results['nonconvex'].items():\n",
    "        ax2.plot(values, label=optimizer)\n",
    "    ax2.set_title('Non-convex function optimization')\n",
    "    ax2.set_xlabel('Iteration')\n",
    "    ax2.set_ylabel('x value')\n",
    "    ax2.legend()\n",
    "    ax2.grid(True)\n",
    "\n",
    "    plt.tight_layout()\n",
    "    plt.show()"
   ]
  },
  {
   "cell_type": "code",
   "execution_count": 36,
   "metadata": {},
   "outputs": [
    {
     "name": "stdout",
     "output_type": "stream",
     "text": [
      "===== Optimizers evaluation on convex function f(x) = (x - 2)**2 =====\n",
      "\n",
      "Optimizer: SGD\n",
      "├──Iteration 20: x = 4.0028, loss = 4.1767\n",
      "├──Iteration 40: x = 3.3371, loss = 1.8616\n",
      "├──Iteration 60: x = 2.8927, loss = 0.8297\n",
      "├──Iteration 80: x = 2.5959, loss = 0.3698\n",
      "├──Iteration 100: x = 2.3979, loss = 0.1648\n",
      "├──Iteration 120: x = 2.2656, loss = 0.0735\n",
      "├──Iteration 140: x = 2.1773, loss = 0.0327\n",
      "├──Iteration 160: x = 2.1184, loss = 0.0146\n",
      "├──Iteration 180: x = 2.0790, loss = 0.0065\n",
      "├──Iteration 200: x = 2.0528, loss = 0.0029\n",
      "├──Iteration 220: x = 2.0352, loss = 0.0013\n",
      "├──Iteration 240: x = 2.0235, loss = 0.0006\n",
      "├──Iteration 260: x = 2.0157, loss = 0.0003\n",
      "├──Iteration 280: x = 2.0105, loss = 0.0001\n",
      "├──Iteration 300: x = 2.0070, loss = 0.0001\n",
      "├──Iteration 320: x = 2.0047, loss = 0.0000\n",
      "├──Iteration 340: x = 2.0031, loss = 0.0000\n",
      "├──Iteration 360: x = 2.0021, loss = 0.0000\n",
      "├──Iteration 380: x = 2.0014, loss = 0.0000\n",
      "├──Iteration 400: x = 2.0009, loss = 0.0000\n",
      "├──Iteration 420: x = 2.0006, loss = 0.0000\n",
      "├──Iteration 440: x = 2.0004, loss = 0.0000\n",
      "├──Iteration 460: x = 2.0003, loss = 0.0000\n",
      "├──Iteration 480: x = 2.0002, loss = 0.0000\n",
      "└──Iteration 500: x = 2.0001, loss = 0.0000\n",
      "\n",
      "Optimizer: RMSProp\n",
      "├──Iteration 20: x = 3.7271, loss = 3.1090\n",
      "├──Iteration 40: x = 3.1456, loss = 1.3692\n",
      "├──Iteration 60: x = 2.7182, loss = 0.5435\n",
      "├──Iteration 80: x = 2.3800, loss = 0.1562\n",
      "├──Iteration 100: x = 2.1083, loss = 0.0145\n",
      "├──Iteration 120: x = 1.8932, loss = 0.0095\n",
      "├──Iteration 140: x = 1.7287, loss = 0.0698\n",
      "├──Iteration 160: x = 1.6087, loss = 0.1492\n",
      "├──Iteration 180: x = 1.5256, loss = 0.2218\n",
      "├──Iteration 200: x = 1.4707, loss = 0.2778\n",
      "├──Iteration 220: x = 1.4357, loss = 0.3169\n",
      "├──Iteration 240: x = 1.4139, loss = 0.3426\n",
      "├──Iteration 260: x = 1.4004, loss = 0.3588\n",
      "├──Iteration 280: x = 1.3922, loss = 0.3690\n",
      "├──Iteration 300: x = 1.3872, loss = 0.3752\n",
      "├──Iteration 320: x = 1.3842, loss = 0.3791\n",
      "├──Iteration 340: x = 1.3823, loss = 0.3815\n",
      "├──Iteration 360: x = 1.3812, loss = 0.3829\n",
      "├──Iteration 380: x = 1.3804, loss = 0.3838\n",
      "├──Iteration 400: x = 1.3800, loss = 0.3844\n",
      "├──Iteration 420: x = 1.3797, loss = 0.3847\n",
      "├──Iteration 440: x = 1.3796, loss = 0.3849\n",
      "├──Iteration 460: x = 1.3795, loss = 0.3850\n",
      "├──Iteration 480: x = 1.3794, loss = 0.3851\n",
      "└──Iteration 500: x = 1.3794, loss = 0.3852\n",
      "\n",
      "Optimizer: Adagrad\n",
      "├──Iteration 20: x = 4.9244, loss = 8.5652\n",
      "├──Iteration 40: x = 4.8881, loss = 8.3503\n",
      "├──Iteration 60: x = 4.8603, loss = 8.1886\n",
      "├──Iteration 80: x = 4.8369, loss = 8.0540\n",
      "├──Iteration 100: x = 4.8163, loss = 7.9369\n",
      "├──Iteration 120: x = 4.7977, loss = 7.8320\n",
      "├──Iteration 140: x = 4.7806, loss = 7.7364\n",
      "├──Iteration 160: x = 4.7648, loss = 7.6481\n",
      "├──Iteration 180: x = 4.7499, loss = 7.5659\n",
      "├──Iteration 200: x = 4.7359, loss = 7.4887\n",
      "├──Iteration 220: x = 4.7225, loss = 7.4157\n",
      "├──Iteration 240: x = 4.7098, loss = 7.3465\n",
      "├──Iteration 260: x = 4.6976, loss = 7.2805\n",
      "├──Iteration 280: x = 4.6860, loss = 7.2174\n",
      "├──Iteration 300: x = 4.6747, loss = 7.1569\n",
      "├──Iteration 320: x = 4.6638, loss = 7.0987\n",
      "├──Iteration 340: x = 4.6533, loss = 7.0426\n",
      "├──Iteration 360: x = 4.6431, loss = 6.9884\n",
      "├──Iteration 380: x = 4.6331, loss = 6.9359\n",
      "├──Iteration 400: x = 4.6235, loss = 6.8851\n",
      "├──Iteration 420: x = 4.6141, loss = 6.8358\n",
      "├──Iteration 440: x = 4.6049, loss = 6.7879\n",
      "├──Iteration 460: x = 4.5960, loss = 6.7413\n",
      "├──Iteration 480: x = 4.5872, loss = 6.6959\n",
      "└──Iteration 500: x = 4.5787, loss = 6.6517\n",
      "\n",
      "Optimizer: Adam\n",
      "├──Iteration 20: x = 4.8008, loss = 7.9001\n",
      "├──Iteration 40: x = 4.6058, loss = 6.8405\n",
      "├──Iteration 60: x = 4.4173, loss = 5.8882\n",
      "├──Iteration 80: x = 4.2361, loss = 5.0398\n",
      "├──Iteration 100: x = 4.0624, loss = 4.2888\n",
      "├──Iteration 120: x = 3.8966, loss = 3.6280\n",
      "├──Iteration 140: x = 3.7387, loss = 3.0500\n",
      "├──Iteration 160: x = 3.5888, loss = 2.5476\n",
      "├──Iteration 180: x = 3.4471, loss = 2.1140\n",
      "├──Iteration 200: x = 3.3134, loss = 1.7422\n",
      "├──Iteration 220: x = 3.1879, loss = 1.4257\n",
      "├──Iteration 240: x = 3.0706, loss = 1.1583\n",
      "├──Iteration 260: x = 2.9612, loss = 0.9341\n",
      "├──Iteration 280: x = 2.8597, loss = 0.7476\n",
      "├──Iteration 300: x = 2.7660, loss = 0.5937\n",
      "├──Iteration 320: x = 2.6799, loss = 0.4678\n",
      "├──Iteration 340: x = 2.6010, loss = 0.3657\n",
      "├──Iteration 360: x = 2.5291, loss = 0.2836\n",
      "├──Iteration 380: x = 2.4639, loss = 0.2181\n",
      "├──Iteration 400: x = 2.4051, loss = 0.1663\n",
      "├──Iteration 420: x = 2.3522, loss = 0.1258\n",
      "├──Iteration 440: x = 2.3050, loss = 0.0944\n",
      "├──Iteration 460: x = 2.2629, loss = 0.0702\n",
      "├──Iteration 480: x = 2.2257, loss = 0.0518\n",
      "└──Iteration 500: x = 2.1930, loss = 0.0378\n",
      "\n",
      "Optimizer: AdamW\n",
      "├──Iteration 20: x = 4.7893, loss = 7.8384\n",
      "├──Iteration 40: x = 4.5838, loss = 6.7285\n",
      "├──Iteration 60: x = 4.3860, loss = 5.7395\n",
      "├──Iteration 80: x = 4.1967, loss = 4.8665\n",
      "├──Iteration 100: x = 4.0163, loss = 4.1009\n",
      "├──Iteration 120: x = 3.8447, loss = 3.4339\n",
      "├──Iteration 140: x = 3.6822, loss = 2.8564\n",
      "├──Iteration 160: x = 3.5287, loss = 2.3598\n",
      "├──Iteration 180: x = 3.3844, loss = 1.9359\n",
      "├──Iteration 200: x = 3.2491, loss = 1.5766\n",
      "├──Iteration 220: x = 3.1228, loss = 1.2744\n",
      "├──Iteration 240: x = 3.0054, loss = 1.0223\n",
      "├──Iteration 260: x = 2.8968, loss = 0.8136\n",
      "├──Iteration 280: x = 2.7967, loss = 0.6424\n",
      "├──Iteration 300: x = 2.7049, loss = 0.5031\n",
      "├──Iteration 320: x = 2.6211, loss = 0.3907\n",
      "├──Iteration 340: x = 2.5449, loss = 0.3009\n",
      "├──Iteration 360: x = 2.4761, loss = 0.2298\n",
      "├──Iteration 380: x = 2.4141, loss = 0.1740\n",
      "├──Iteration 400: x = 2.3587, loss = 0.1306\n",
      "├──Iteration 420: x = 2.3093, loss = 0.0971\n",
      "├──Iteration 440: x = 2.2656, loss = 0.0716\n",
      "├──Iteration 460: x = 2.2270, loss = 0.0524\n",
      "├──Iteration 480: x = 2.1932, loss = 0.0379\n",
      "└──Iteration 500: x = 2.1637, loss = 0.0272\n",
      "\n",
      "===== Evaluating optimizers on non-convex function f(x) = 3x**2 - 2x =====\n",
      "\n",
      "Optimizer: SGD\n",
      "├──Iteration 20: x = 0.2366, loss = -0.3016\n",
      "├──Iteration 40: x = 0.3053, loss = -0.3307\n",
      "├──Iteration 60: x = 0.3252, loss = -0.3331\n",
      "├──Iteration 80: x = 0.3310, loss = -0.3333\n",
      "├──Iteration 100: x = 0.3326, loss = -0.3333\n",
      "├──Iteration 120: x = 0.3331, loss = -0.3333\n",
      "├──Iteration 140: x = 0.3333, loss = -0.3333\n",
      "├──Iteration 160: x = 0.3333, loss = -0.3333\n",
      "├──Iteration 180: x = 0.3333, loss = -0.3333\n",
      "├──Iteration 200: x = 0.3333, loss = -0.3333\n",
      "├──Iteration 220: x = 0.3333, loss = -0.3333\n",
      "├──Iteration 240: x = 0.3333, loss = -0.3333\n",
      "├──Iteration 260: x = 0.3333, loss = -0.3333\n",
      "├──Iteration 280: x = 0.3333, loss = -0.3333\n",
      "├──Iteration 300: x = 0.3333, loss = -0.3333\n",
      "├──Iteration 320: x = 0.3333, loss = -0.3333\n",
      "├──Iteration 340: x = 0.3333, loss = -0.3333\n",
      "├──Iteration 360: x = 0.3333, loss = -0.3333\n",
      "├──Iteration 380: x = 0.3333, loss = -0.3333\n",
      "├──Iteration 400: x = 0.3333, loss = -0.3333\n",
      "├──Iteration 420: x = 0.3333, loss = -0.3333\n",
      "├──Iteration 440: x = 0.3333, loss = -0.3333\n",
      "├──Iteration 460: x = 0.3333, loss = -0.3333\n",
      "├──Iteration 480: x = 0.3333, loss = -0.3333\n",
      "└──Iteration 500: x = 0.3333, loss = -0.3333\n",
      "\n",
      "Optimizer: RMSProp\n",
      "├──Iteration 20: x = 0.2888, loss = -0.3273\n",
      "├──Iteration 40: x = 0.2898, loss = -0.3277\n",
      "├──Iteration 60: x = 0.2899, loss = -0.3277\n",
      "├──Iteration 80: x = 0.2899, loss = -0.3277\n",
      "├──Iteration 100: x = 0.2899, loss = -0.3277\n",
      "├──Iteration 120: x = 0.2899, loss = -0.3277\n",
      "├──Iteration 140: x = 0.2899, loss = -0.3277\n",
      "├──Iteration 160: x = 0.2899, loss = -0.3277\n",
      "├──Iteration 180: x = 0.2899, loss = -0.3277\n",
      "├──Iteration 200: x = 0.2899, loss = -0.3277\n",
      "├──Iteration 220: x = 0.2899, loss = -0.3277\n",
      "├──Iteration 240: x = 0.2899, loss = -0.3277\n",
      "├──Iteration 260: x = 0.2899, loss = -0.3277\n",
      "├──Iteration 280: x = 0.2899, loss = -0.3277\n",
      "├──Iteration 300: x = 0.2899, loss = -0.3277\n",
      "├──Iteration 320: x = 0.2899, loss = -0.3277\n",
      "├──Iteration 340: x = 0.2899, loss = -0.3277\n",
      "├──Iteration 360: x = 0.2899, loss = -0.3277\n",
      "├──Iteration 380: x = 0.2899, loss = -0.3277\n",
      "├──Iteration 400: x = 0.2899, loss = -0.3277\n",
      "├──Iteration 420: x = 0.2899, loss = -0.3277\n",
      "├──Iteration 440: x = 0.2899, loss = -0.3277\n",
      "├──Iteration 460: x = 0.2899, loss = -0.3277\n",
      "├──Iteration 480: x = 0.2899, loss = -0.3277\n",
      "└──Iteration 500: x = 0.2899, loss = -0.3277\n",
      "\n",
      "Optimizer: Adagrad\n",
      "├──Iteration 20: x = 0.0724, loss = -0.1259\n",
      "├──Iteration 40: x = 0.1047, loss = -0.1747\n",
      "├──Iteration 60: x = 0.1283, loss = -0.2060\n",
      "├──Iteration 80: x = 0.1474, loss = -0.2286\n",
      "├──Iteration 100: x = 0.1634, loss = -0.2460\n",
      "├──Iteration 120: x = 0.1773, loss = -0.2597\n",
      "├──Iteration 140: x = 0.1896, loss = -0.2708\n",
      "├──Iteration 160: x = 0.2005, loss = -0.2800\n",
      "├──Iteration 180: x = 0.2104, loss = -0.2876\n",
      "├──Iteration 200: x = 0.2193, loss = -0.2940\n",
      "├──Iteration 220: x = 0.2274, loss = -0.2994\n",
      "├──Iteration 240: x = 0.2349, loss = -0.3040\n",
      "├──Iteration 260: x = 0.2417, loss = -0.3080\n",
      "├──Iteration 280: x = 0.2480, loss = -0.3113\n",
      "├──Iteration 300: x = 0.2538, loss = -0.3142\n",
      "├──Iteration 320: x = 0.2592, loss = -0.3167\n",
      "├──Iteration 340: x = 0.2642, loss = -0.3189\n",
      "├──Iteration 360: x = 0.2688, loss = -0.3207\n",
      "├──Iteration 380: x = 0.2731, loss = -0.3224\n",
      "├──Iteration 400: x = 0.2771, loss = -0.3238\n",
      "├──Iteration 420: x = 0.2808, loss = -0.3250\n",
      "├──Iteration 440: x = 0.2842, loss = -0.3261\n",
      "├──Iteration 460: x = 0.2874, loss = -0.3270\n",
      "├──Iteration 480: x = 0.2905, loss = -0.3278\n",
      "└──Iteration 500: x = 0.2933, loss = -0.3285\n",
      "\n",
      "Optimizer: Adam\n",
      "├──Iteration 20: x = 0.1897, loss = -0.2639\n",
      "├──Iteration 40: x = 0.3151, loss = -0.3319\n",
      "├──Iteration 60: x = 0.3481, loss = -0.3327\n",
      "├──Iteration 80: x = 0.3379, loss = -0.3333\n",
      "├──Iteration 100: x = 0.3316, loss = -0.3333\n",
      "├──Iteration 120: x = 0.3328, loss = -0.3333\n",
      "├──Iteration 140: x = 0.3336, loss = -0.3333\n",
      "├──Iteration 160: x = 0.3333, loss = -0.3333\n",
      "├──Iteration 180: x = 0.3333, loss = -0.3333\n",
      "├──Iteration 200: x = 0.3333, loss = -0.3333\n",
      "├──Iteration 220: x = 0.3333, loss = -0.3333\n",
      "├──Iteration 240: x = 0.3333, loss = -0.3333\n",
      "├──Iteration 260: x = 0.3333, loss = -0.3333\n",
      "├──Iteration 280: x = 0.3333, loss = -0.3333\n",
      "├──Iteration 300: x = 0.3333, loss = -0.3333\n",
      "├──Iteration 320: x = 0.3333, loss = -0.3333\n",
      "├──Iteration 340: x = 0.3333, loss = -0.3333\n",
      "├──Iteration 360: x = 0.3333, loss = -0.3333\n",
      "├──Iteration 380: x = 0.3333, loss = -0.3333\n",
      "├──Iteration 400: x = 0.3333, loss = -0.3333\n",
      "├──Iteration 420: x = 0.3333, loss = -0.3333\n",
      "├──Iteration 440: x = 0.3333, loss = -0.3333\n",
      "├──Iteration 460: x = 0.3333, loss = -0.3333\n",
      "├──Iteration 480: x = 0.3333, loss = -0.3333\n",
      "└──Iteration 500: x = 0.3333, loss = -0.3333\n",
      "\n",
      "Optimizer: AdamW\n",
      "├──Iteration 20: x = 0.1923, loss = -0.2662\n",
      "├──Iteration 40: x = 0.3172, loss = -0.3321\n",
      "├──Iteration 60: x = 0.3482, loss = -0.3327\n",
      "├──Iteration 80: x = 0.3374, loss = -0.3333\n",
      "├──Iteration 100: x = 0.3316, loss = -0.3333\n",
      "├──Iteration 120: x = 0.3329, loss = -0.3333\n",
      "├──Iteration 140: x = 0.3336, loss = -0.3333\n",
      "├──Iteration 160: x = 0.3333, loss = -0.3333\n",
      "├──Iteration 180: x = 0.3333, loss = -0.3333\n",
      "├──Iteration 200: x = 0.3333, loss = -0.3333\n",
      "├──Iteration 220: x = 0.3333, loss = -0.3333\n",
      "├──Iteration 240: x = 0.3333, loss = -0.3333\n",
      "├──Iteration 260: x = 0.3333, loss = -0.3333\n",
      "├──Iteration 280: x = 0.3333, loss = -0.3333\n",
      "├──Iteration 300: x = 0.3333, loss = -0.3333\n",
      "├──Iteration 320: x = 0.3333, loss = -0.3333\n",
      "├──Iteration 340: x = 0.3333, loss = -0.3333\n",
      "├──Iteration 360: x = 0.3333, loss = -0.3333\n",
      "├──Iteration 380: x = 0.3333, loss = -0.3333\n",
      "├──Iteration 400: x = 0.3333, loss = -0.3333\n",
      "├──Iteration 420: x = 0.3333, loss = -0.3333\n",
      "├──Iteration 440: x = 0.3333, loss = -0.3333\n",
      "├──Iteration 460: x = 0.3333, loss = -0.3333\n",
      "├──Iteration 480: x = 0.3333, loss = -0.3333\n",
      "└──Iteration 500: x = 0.3333, loss = -0.3333\n"
     ]
    }
   ],
   "source": [
    "res = eval_optim()"
   ]
  },
  {
   "cell_type": "code",
   "execution_count": 37,
   "metadata": {},
   "outputs": [
    {
     "data": {
      "image/png": "[encoded data removed]",
      "text/plain": [
       "<Figure size 1500x500 with 2 Axes>"
      ]
     },
     "metadata": {},
     "output_type": "display_data"
    }
   ],
   "source": [
    "plot_optimization_results(res)"
   ]
  },
  {
   "cell_type": "markdown",
   "metadata": {},
   "source": [
    "TODO EXPLAIN"
   ]
  },
  {
   "cell_type": "markdown",
   "metadata": {},
   "source": [
    "## Implémentation de réseau de Neurones\n",
    "\n",
    "### Définition du modèle"
   ]
  },
  {
   "cell_type": "code",
   "execution_count": 38,
   "metadata": {},
   "outputs": [],
   "source": [
    "def func_nn(x: Tensor, W1: Tensor, b1: Tensor, W2: Tensor, b2: Tensor):\n",
    "    h1 = W1 * x + b1\n",
    "    y = W2 * h1 + b2\n",
    "    return y\n",
    "\n",
    "def mse(y: Tensor, y_hat: Tensor):\n",
    "    return (y - y_hat) ** 2"
   ]
  },
  {
   "cell_type": "markdown",
   "metadata": {},
   "source": [
    "### Entraînement du réseau\n",
    "\n",
    "TODO EXPLAIN"
   ]
  },
  {
   "cell_type": "code",
   "execution_count": 39,
   "metadata": {},
   "outputs": [],
   "source": [
    "def eval_nn_optim():\n",
    "    # init, current data is ignored\n",
    "    W1 = Tensor(0.0)\n",
    "    b1 = Tensor(0.0)\n",
    "    W2 = Tensor(0.0)\n",
    "    b2 = Tensor(0.0)\n",
    "\n",
    "    n_epochs = 100\n",
    "    learning_rate = 0.001\n",
    "\n",
    "    results = {\n",
    "        'SGD': [],\n",
    "        'RMSProp': [],\n",
    "        'Adagrad': [],\n",
    "        'Adam': [],\n",
    "        'AdamW': []\n",
    "    }\n",
    "\n",
    "    optimizers = {\n",
    "        'SGD': (SGD, {'lr': learning_rate}),\n",
    "        'RMSProp': (RMSProp, {'lr': learning_rate, 'weight_decay': 0.9, 'alpha': 0.99, 'eps': 1e-8}),\n",
    "        'Adagrad': (Adagrad, {'lr': learning_rate}),\n",
    "        'Adam': (Adam, {'lr': learning_rate, 'betas': (0.9, 0.999), 'eps': 1e-8}),\n",
    "        'AdamW': (AdamW, {'lr': learning_rate, 'betas': (0.9, 0.999), 'eps': 1e-8, 'weight_decay': 0.01})\n",
    "    }\n",
    "\n",
    "    for name, (opt_class, params) in optimizers.items():\n",
    "        # init -> random network parameters\n",
    "        W1.data = np.random.randn()\n",
    "        b1.data = np.random.randn()\n",
    "        W2.data = np.random.randn()\n",
    "        b2.data = np.random.randn()\n",
    "\n",
    "        optimizer = opt_class([W1, b1, W2, b2], **params)\n",
    "        print(f\"\\nTraining with {name}\")\n",
    "\n",
    "        epoch_losses = []\n",
    "        for epoch in range(n_epochs):\n",
    "            epoch_loss = 0\n",
    "\n",
    "            for x, y in zip(x_linear, y_linear):\n",
    "                y_pred = func_nn(x, W1, b1, W2, b2)\n",
    "                loss = mse(y, y_pred)\n",
    "\n",
    "                # backward pass\n",
    "                optimizer.zero_grad()\n",
    "                loss.backward()\n",
    "                optimizer.step()\n",
    "\n",
    "                epoch_loss += float(loss.data)\n",
    "\n",
    "            avg_epoch_loss = epoch_loss / len(x_linear)\n",
    "            epoch_losses.append(avg_epoch_loss)\n",
    "\n",
    "            if (epoch + 1) % 10 == 0:\n",
    "                print(f\"Epoch {epoch + 1}/{n_epochs} | loss = {avg_epoch_loss:.4f}\")\n",
    "\n",
    "        results[name] = epoch_losses\n",
    "\n",
    "    return results"
   ]
  },
  {
   "cell_type": "code",
   "execution_count": 40,
   "metadata": {},
   "outputs": [],
   "source": [
    "def plot_nn_results(results):\n",
    "    plt.figure(figsize=(10, 6))\n",
    "    for optimizer, losses in results.items():\n",
    "        plt.plot(losses, label=optimizer)\n",
    "\n",
    "    plt.title('Neural Network Training Loss')\n",
    "    plt.xlabel('Epoch')\n",
    "    plt.ylabel('MSE Loss')\n",
    "    plt.legend()\n",
    "    plt.grid(True)\n",
    "    plt.yscale('log')\n",
    "    plt.show()"
   ]
  },
  {
   "cell_type": "code",
   "execution_count": 41,
   "metadata": {},
   "outputs": [
    {
     "name": "stdout",
     "output_type": "stream",
     "text": [
      "\n",
      "Training with SGD\n",
      "Epoch 10/100 | loss = 5.4255\n",
      "Epoch 20/100 | loss = 5.3420\n",
      "Epoch 30/100 | loss = 5.3283\n",
      "Epoch 40/100 | loss = 5.3250\n",
      "Epoch 50/100 | loss = 5.3243\n",
      "Epoch 60/100 | loss = 5.3241\n",
      "Epoch 70/100 | loss = 5.3241\n",
      "Epoch 80/100 | loss = 5.3241\n",
      "Epoch 90/100 | loss = 5.3241\n",
      "Epoch 100/100 | loss = 5.3240\n",
      "\n",
      "Training with RMSProp\n",
      "Epoch 10/100 | loss = 20.6446\n",
      "Epoch 20/100 | loss = 6.2571\n",
      "Epoch 30/100 | loss = 4.4267\n",
      "Epoch 40/100 | loss = 4.2354\n",
      "Epoch 50/100 | loss = 4.2088\n",
      "Epoch 60/100 | loss = 4.2041\n",
      "Epoch 70/100 | loss = 4.2031\n",
      "Epoch 80/100 | loss = 4.2027\n",
      "Epoch 90/100 | loss = 4.2026\n",
      "Epoch 100/100 | loss = 4.2026\n",
      "\n",
      "Training with Adagrad\n",
      "Epoch 10/100 | loss = 201.7500\n",
      "Epoch 20/100 | loss = 196.3580\n",
      "Epoch 30/100 | loss = 192.2338\n",
      "Epoch 40/100 | loss = 188.7559\n",
      "Epoch 50/100 | loss = 185.6893\n",
      "Epoch 60/100 | loss = 182.9147\n",
      "Epoch 70/100 | loss = 180.3617\n",
      "Epoch 80/100 | loss = 177.9845\n",
      "Epoch 90/100 | loss = 175.7515\n",
      "Epoch 100/100 | loss = 173.6394\n",
      "\n",
      "Training with Adam\n",
      "Epoch 10/100 | loss = 58.5212\n",
      "Epoch 20/100 | loss = 24.2148\n",
      "Epoch 30/100 | loss = 13.3552\n",
      "Epoch 40/100 | loss = 7.4654\n",
      "Epoch 50/100 | loss = 4.9845\n",
      "Epoch 60/100 | loss = 4.2526\n",
      "Epoch 70/100 | loss = 4.1113\n",
      "Epoch 80/100 | loss = 4.0937\n",
      "Epoch 90/100 | loss = 4.0930\n",
      "Epoch 100/100 | loss = 4.0936\n",
      "\n",
      "Training with AdamW\n",
      "Epoch 10/100 | loss = 15.8861\n",
      "Epoch 20/100 | loss = 7.5561\n",
      "Epoch 30/100 | loss = 4.6510\n",
      "Epoch 40/100 | loss = 4.1456\n",
      "Epoch 50/100 | loss = 4.1054\n",
      "Epoch 60/100 | loss = 4.1068\n",
      "Epoch 70/100 | loss = 4.1086\n",
      "Epoch 80/100 | loss = 4.1094\n",
      "Epoch 90/100 | loss = 4.1097\n",
      "Epoch 100/100 | loss = 4.1099\n"
     ]
    }
   ],
   "source": [
    "results = eval_nn_optim()"
   ]
  },
  {
   "cell_type": "code",
   "execution_count": 42,
   "metadata": {},
   "outputs": [
    {
     "data": {
      "image/png": "[encoded data removed]",
      "text/plain": [
       "<Figure size 1000x600 with 1 Axes>"
      ]
     },
     "metadata": {},
     "output_type": "display_data"
    }
   ],
   "source": [
    "plot_nn_results(results=results)"
   ]
  },
  {
   "cell_type": "markdown",
   "metadata": {},
   "source": [
    "TODO EXPLAIN"
   ]
  },
  {
   "cell_type": "markdown",
   "metadata": {},
   "source": [
    "## Implémentation des scheduler de taux d’apprentissage\n",
    "\n",
    "### LRScheduler\n",
    "\n",
    "TODO EXPLAIN"
   ]
  },
  {
   "cell_type": "code",
   "execution_count": 28,
   "metadata": {},
   "outputs": [],
   "source": [
    "class LRScheduler:\n",
    "    def __init__(self, optimizer: Optimizer, initial_lr: float):\n",
    "        self.optimizer = optimizer\n",
    "        self.initial_lr = initial_lr\n",
    "        self.current_lr = initial_lr\n",
    "\n",
    "    def step(self, epoch: int | None = None):\n",
    "        pass\n",
    "\n",
    "    def get_lr(self):\n",
    "        return self.optimizer.lr\n",
    "\n",
    "    def set_lr(self, lr: float):\n",
    "        self.current_lr = lr\n",
    "        self.optimizer.lr = lr"
   ]
  },
  {
   "cell_type": "markdown",
   "metadata": {},
   "source": [
    "TODO EXPLAIN"
   ]
  },
  {
   "cell_type": "markdown",
   "metadata": {},
   "source": [
    "### LRSchedulerOnPlateau\n",
    "\n",
    "TODO EXPLAIN"
   ]
  },
  {
   "cell_type": "code",
   "execution_count": 29,
   "metadata": {},
   "outputs": [],
   "source": [
    "class LRSchedulerOnPlateau(LRScheduler):\n",
    "    def __init__(self, optimizer: Optimizer, initial_lr: float, patience: int = 10, factor: float = 0.1, min_lr: float = 1e-6, mode: str = \"min\", threshold: float = 1e-4):\n",
    "        super().__init__(optimizer, initial_lr)\n",
    "        self.patience = patience\n",
    "        self.factor = factor\n",
    "        self.min_lr = min_lr\n",
    "        self.mode = mode\n",
    "        self.threshold = threshold\n",
    "\n",
    "        self.num_bad_epochs = 0\n",
    "        self.best = float('inf') if mode == \"min\" else float('-inf')\n",
    "\n",
    "        # mode comparision\n",
    "        self.is_better = lambda a, b: a < b if mode == \"min\" else a > b\n",
    "\n",
    "    def step(self, new_metric):\n",
    "        if self.is_better(new_metric, self.best * (1 + self.threshold if self.mode == \"min\" else 1 - self.threshold)):\n",
    "            self.best = new_metric\n",
    "            self.num_bad_epochs = 0\n",
    "        else:\n",
    "            self.num_bad_epochs += 1\n",
    "\n",
    "        if self.num_bad_epochs > self.patience:\n",
    "            self.num_bad_epochs = 0\n",
    "            old_lr = self.current_lr\n",
    "            new_lr = max(self.current_lr * self.factor, self.min_lr)\n",
    "\n",
    "            if new_lr != self.current_lr:\n",
    "                self.set_lr(new_lr)\n",
    "                print(f\"Reducing learning rate from {old_lr} to {new_lr}\")\n"
   ]
  },
  {
   "cell_type": "markdown",
   "metadata": {},
   "source": [
    "TODO EXPLAIN"
   ]
  },
  {
   "cell_type": "code",
   "execution_count": 30,
   "metadata": {},
   "outputs": [],
   "source": [
    "def scheduler_eval():\n",
    "    # init -> random network parameters\n",
    "    W1 = Tensor(np.random.randn())\n",
    "    b1 = Tensor(np.random.randn())\n",
    "    W2 = Tensor(np.random.randn())\n",
    "    b2 = Tensor(np.random.randn())\n",
    "\n",
    "    initial_lr = 0.01\n",
    "    n_epochs = 200\n",
    "    patience = 10\n",
    "\n",
    "    history = {\n",
    "        'train_loss': [],\n",
    "        'learning_rates': [],\n",
    "        'validation_loss': []\n",
    "    }\n",
    "\n",
    "    optimizer = Adam([W1, b1, W2, b2], lr=initial_lr)\n",
    "    scheduler = LRSchedulerOnPlateau(\n",
    "        optimizer=optimizer,\n",
    "        initial_lr=initial_lr,\n",
    "        patience=patience,\n",
    "        factor=0.5,\n",
    "        min_lr=1e-5,\n",
    "        mode=\"min\",\n",
    "        threshold=1e-4\n",
    "    )\n",
    "\n",
    "    x_train, x_val, y_train, y_val =  train_test_split(x_linear, y_linear, test_size=0.33, random_state=42)\n",
    "\n",
    "    print(f\"Initial lr: {optimizer.lr}\\n\")\n",
    "    for epoch in range(n_epochs):\n",
    "        epoch_loss = 0\n",
    "\n",
    "        for x, y in zip(x_train, y_train):\n",
    "            y_pred = func_nn(x, W1, b1, W2, b2)\n",
    "            loss = mse(y, y_pred)\n",
    "\n",
    "            optimizer.zero_grad()\n",
    "            loss.backward()\n",
    "            optimizer.step()\n",
    "\n",
    "            epoch_loss += loss.data\n",
    "\n",
    "        avg_train_loss = epoch_loss / len(x_train)\n",
    "        history['train_loss'].append(avg_train_loss)\n",
    "\n",
    "        val_loss = 0\n",
    "        for x, y in zip(x_val, y_val):\n",
    "            y_pred = func_nn(x, W1, b1, W2, b2)\n",
    "            loss = mse(y, y_pred)\n",
    "\n",
    "            val_loss += loss.data\n",
    "\n",
    "        avg_val_loss = val_loss / len(x_val)\n",
    "        history['validation_loss'].append(avg_val_loss)\n",
    "\n",
    "        scheduler.step(avg_val_loss)\n",
    "        history['learning_rates'].append(scheduler.get_lr())\n",
    "\n",
    "        if (epoch + 1) % 10 == 0:\n",
    "            print(\n",
    "                f\"Epoch {(epoch + 1)}/{n_epochs} | train_loss: {avg_train_loss:.4f}, \"\n",
    "                f\"val_loss: {avg_val_loss:.4f}, lr: {scheduler.get_lr():.6f}\"\n",
    "            )\n",
    "\n",
    "    return history"
   ]
  },
  {
   "cell_type": "code",
   "execution_count": 31,
   "metadata": {},
   "outputs": [],
   "source": [
    "def plot_training_history(history):\n",
    "    _, (ax1, ax2) = plt.subplots(2, 1, figsize=(12, 8))\n",
    "\n",
    "    ax1.plot(history['train_loss'], label='Training loss')\n",
    "    ax1.plot(history['validation_loss'], label='Validation loss')\n",
    "    ax1.set_title('Training and validation loss')\n",
    "    ax1.set_xlabel('Epoch')\n",
    "    ax1.set_ylabel('Loss')\n",
    "    ax1.legend()\n",
    "    ax1.grid(True)\n",
    "    ax1.set_yscale('log')\n",
    "\n",
    "    ax2.plot(history['learning_rates'], label='Learning rate', color='g')\n",
    "    ax2.set_title('Learning rate schedule')\n",
    "    ax2.set_xlabel('Epoch')\n",
    "    ax2.set_ylabel('Learning Rate')\n",
    "    ax2.legend()\n",
    "    ax2.grid(True)\n",
    "    ax2.set_yscale('log')\n",
    "\n",
    "    plt.tight_layout()\n",
    "    plt.show()"
   ]
  },
  {
   "cell_type": "code",
   "execution_count": 32,
   "metadata": {},
   "outputs": [
    {
     "name": "stdout",
     "output_type": "stream",
     "text": [
      "Initial lr: 0.01\n",
      "\n",
      "Epoch 10/200 | train_loss: 4.1602, val_loss: 4.5774, lr: 0.010000\n",
      "Epoch 20/200 | train_loss: 4.1791, val_loss: 4.6874, lr: 0.010000\n",
      "Reducing learning rate from 0.01 to 0.005\n",
      "Epoch 30/200 | train_loss: 4.0988, val_loss: 4.5171, lr: 0.005000\n",
      "Reducing learning rate from 0.005 to 0.0025\n",
      "Epoch 40/200 | train_loss: 4.0454, val_loss: 4.4544, lr: 0.002500\n",
      "Epoch 50/200 | train_loss: 4.0497, val_loss: 4.4582, lr: 0.002500\n",
      "Epoch 60/200 | train_loss: 4.0521, val_loss: 4.4605, lr: 0.002500\n",
      "Epoch 70/200 | train_loss: 4.0534, val_loss: 4.4618, lr: 0.002500\n",
      "Epoch 80/200 | train_loss: 4.0541, val_loss: 4.4624, lr: 0.002500\n",
      "Epoch 90/200 | train_loss: 4.0544, val_loss: 4.4628, lr: 0.002500\n",
      "Epoch 100/200 | train_loss: 4.0546, val_loss: 4.4630, lr: 0.002500\n",
      "Epoch 110/200 | train_loss: 4.0547, val_loss: 4.4631, lr: 0.002500\n",
      "Epoch 120/200 | train_loss: 4.0548, val_loss: 4.4631, lr: 0.002500\n",
      "Epoch 130/200 | train_loss: 4.0548, val_loss: 4.4631, lr: 0.002500\n",
      "Epoch 140/200 | train_loss: 4.0548, val_loss: 4.4632, lr: 0.002500\n",
      "Epoch 150/200 | train_loss: 4.0548, val_loss: 4.4632, lr: 0.002500\n",
      "Epoch 160/200 | train_loss: 4.0548, val_loss: 4.4632, lr: 0.002500\n",
      "Epoch 170/200 | train_loss: 4.0548, val_loss: 4.4632, lr: 0.002500\n",
      "Epoch 180/200 | train_loss: 4.0548, val_loss: 4.4632, lr: 0.002500\n",
      "Epoch 190/200 | train_loss: 4.0548, val_loss: 4.4632, lr: 0.002500\n",
      "Epoch 200/200 | train_loss: 4.0548, val_loss: 4.4632, lr: 0.002500\n"
     ]
    }
   ],
   "source": [
    "history = scheduler_eval()"
   ]
  },
  {
   "cell_type": "code",
   "execution_count": 33,
   "metadata": {},
   "outputs": [
    {
     "data": {
      "image/png": "[encoded data removed]",
      "text/plain": [
       "<Figure size 1200x800 with 2 Axes>"
      ]
     },
     "metadata": {},
     "output_type": "display_data"
    }
   ],
   "source": [
    "plot_training_history(history)"
   ]
  },
  {
   "cell_type": "code",
   "execution_count": null,
   "metadata": {},
   "outputs": [],
   "source": []
  }
 ],
 "metadata": {
  "kernelspec": {
   "display_name": "Python 3",
   "language": "python",
   "name": "python3"
  },
  "language_info": {
   "codemirror_mode": {
    "name": "ipython",
    "version": 3
   },
   "file_extension": ".py",
   "mimetype": "text/x-python",
   "name": "python",
   "nbconvert_exporter": "python",
   "pygments_lexer": "ipython3",
   "version": "3.12.8"
  }
 },
 "nbformat": 4,
 "nbformat_minor": 2
}
